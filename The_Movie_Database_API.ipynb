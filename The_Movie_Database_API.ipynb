{
 "cells": [
  {
   "cell_type": "code",
   "execution_count": 233,
   "metadata": {},
   "outputs": [],
   "source": [
    "import pandas as pd\n",
    "from pprint import pprint\n",
    "import requests\n",
    "import json\n",
    "import ast\n",
    "import matplotlib.pyplot as plt\n",
    "low_memory=False"
   ]
  },
  {
   "cell_type": "code",
   "execution_count": 4,
   "metadata": {},
   "outputs": [],
   "source": [
    "# Read csv file \n",
    "csv_file = 'Resources/recentMovieTitles.csv'\n",
    "movie_titles = pd.read_csv(csv_file)"
   ]
  },
  {
   "cell_type": "code",
   "execution_count": 5,
   "metadata": {},
   "outputs": [
    {
     "data": {
      "text/plain": [
       "Documentary               52592\n",
       "Drama                     36345\n",
       "Comedy                    15161\n",
       "\\N                        12148\n",
       "Horror                     6481\n",
       "                          ...  \n",
       "Music,Mystery                 1\n",
       "Musical,Reality-TV            1\n",
       "Adventure,War                 1\n",
       "Biography,Comedy,Sport        1\n",
       "Comedy,Sci-Fi,Sport           1\n",
       "Name: genres, Length: 1149, dtype: int64"
      ]
     },
     "execution_count": 5,
     "metadata": {},
     "output_type": "execute_result"
    }
   ],
   "source": [
    "movie_titles['genres'].value_counts()"
   ]
  },
  {
   "cell_type": "code",
   "execution_count": null,
   "metadata": {},
   "outputs": [
    {
     "name": "stdout",
     "output_type": "stream",
     "text": [
      "SET: 100/500\n",
      "SET: 200/500\n",
      "SET: 300/500\n",
      "SET: 400/500\n"
     ]
    }
   ],
   "source": [
    "# Get The Movie Database IDs For Each Movie\n",
    "movie_ids = []\n",
    "totalNumMovies = len(movie_titles)\n",
    "setRequestCounter = 1\n",
    "readCurrentIndexFile = open(\"Resources/currentIndex.txt\", \"r\")\n",
    "requestIndexCounter = int(readCurrentIndexFile.read())\n",
    "foundCounter = 0\n",
    "notFoundCounter = 0\n",
    "\n",
    "while requestIndexCounter <= totalNumMovies:\n",
    "    if setRequestCounter <= 500:\n",
    "        if setRequestCounter == 100:\n",
    "            print(\"SET: 100/500\")\n",
    "        elif setRequestCounter == 200:\n",
    "            print(\"SET: 200/500\")\n",
    "        elif setRequestCounter == 300:\n",
    "            print(\"SET: 300/500\")\n",
    "        elif setRequestCounter == 400:\n",
    "            print(\"SET: 400/500\")\n",
    "        title = movie_titles['primaryTitle'].iloc[requestIndexCounter]\n",
    "        year = movie_titles['startYear'].iloc[requestIndexCounter]\n",
    "        url = f\"https://api.themoviedb.org/3/search/movie?api_key=c1c6e406a72fd9e2c34c45bf23702c82&query={title}&year={year}\"\n",
    "        request = requests.get(url)\n",
    "        requestJSON = request.json()\n",
    "        #print(request)\n",
    "        if request.status_code == 200:\n",
    "            if requestJSON['total_results'] != 0:\n",
    "                movie_ids.append(requestJSON['results'][0]['id'])\n",
    "                foundCounter += 1\n",
    "                #print(f\"FOUND: {title}! | SET: {setRequestCounter}/500 | TOTAL: {requestIndexCounter}/{totalNumMovies}\")\n",
    "            else:\n",
    "                notFoundCounter += 1\n",
    "                #print(f\"NOT FOUND: {title}. Trying next movie.. | SET: {setRequestCounter}/500 | TOTAL: {requestIndexCounter}/{totalNumMovies}\")            \n",
    "\n",
    "        requestIndexCounter += 1\n",
    "        setRequestCounter += 1\n",
    "    else:\n",
    "        movie_ids_df = pd.DataFrame(movie_ids)\n",
    "        movie_ids_df.to_csv('Resources/TMDBMovieIDS.csv', mode='a', header=False, index=False)\n",
    "        writeCurrentIndexFile = open(\"Resources/currentIndex.txt\", \"w\")\n",
    "        writeCurrentIndexFile.write(str(requestIndexCounter))\n",
    "        writeCurrentIndexFile.close()\n",
    "        setRequestCounter = 1\n",
    "        movie_ids = []\n",
    "        foundCounter = 0\n",
    "        notFoundCounter = 0\n",
    "        print(f\"\"\"--- SAVING PROGRESS TO CSV ---\n",
    "        SET: {setRequestCounter-1}/500 | TOTAL: {requestIndexCounter}/{totalNumMovies}\n",
    "        Found: {foundCounter}\n",
    "        Not Found: {notFoundCounter}\n",
    "        % Found: {round(foundCounter/(foundCounter+notFoundCounter)*100,2)}\"\"\")\n",
    "\n",
    "\n",
    "#PROCESS COMPLETE                                                                              \n",
    "print('''---------------------------\n",
    "DATA RETRIEVAL PROCESS COMPLETE!\n",
    "---------------------------''')"
   ]
  },
  {
   "cell_type": "code",
   "execution_count": 2,
   "metadata": {},
   "outputs": [],
   "source": [
    "movie_json_file = 'Resources/TMDBMovieJSON.csv'\n",
    "movie_json = pd.read_csv(movie_json_file,lineterminator='\\n')\n",
    "movie_json_df = pd.DataFrame(movie_json)\n",
    "movie_clean_df = movie_json_df.loc[movie_json_df['revenue']!=0,:]"
   ]
  },
  {
   "cell_type": "code",
   "execution_count": 3,
   "metadata": {},
   "outputs": [
    {
     "name": "stdout",
     "output_type": "stream",
     "text": [
      "5910\n",
      "66111\n"
     ]
    }
   ],
   "source": [
    "print(len(movie_clean_df))\n",
    "print(len(movie_json_df))"
   ]
  },
  {
   "cell_type": "code",
   "execution_count": 4,
   "metadata": {},
   "outputs": [],
   "source": [
    "movie_recent_clean_df = movie_clean_df.loc[pd.to_numeric(movie_clean_df['release_date'].str[:4]) >= 2000,:]"
   ]
  },
  {
   "cell_type": "code",
   "execution_count": 5,
   "metadata": {},
   "outputs": [
    {
     "data": {
      "text/plain": [
       "2014    616\n",
       "2013    605\n",
       "2015    539\n",
       "2012    533\n",
       "2016    523\n",
       "2011    468\n",
       "2010    466\n",
       "2017    407\n",
       "2009    369\n",
       "2008    214\n",
       "2018    188\n",
       "2007    115\n",
       "2019    107\n",
       "2006     78\n",
       "2005     71\n",
       "2003     52\n",
       "2004     47\n",
       "2002     44\n",
       "2001     33\n",
       "2000     26\n",
       "2020      4\n",
       "Name: release_date, dtype: int64"
      ]
     },
     "execution_count": 5,
     "metadata": {},
     "output_type": "execute_result"
    }
   ],
   "source": [
    "movie_recent_clean_df['release_date'].str[:4].value_counts()"
   ]
  },
  {
   "cell_type": "code",
   "execution_count": 8,
   "metadata": {},
   "outputs": [
    {
     "data": {
      "text/plain": [
       "Index(['adult', 'backdrop_path', 'belongs_to_collection', 'budget', 'genres',\n",
       "       'homepage', 'id', 'imdb_id', 'original_language', 'original_title',\n",
       "       'overview', 'popularity', 'poster_path', 'production_companies',\n",
       "       'production_countries', 'release_date', 'revenue', 'runtime',\n",
       "       'spoken_languages', 'status', 'tagline', 'title', 'video',\n",
       "       'vote_average', 'vote_count', 'credits'],\n",
       "      dtype='object')"
      ]
     },
     "execution_count": 8,
     "metadata": {},
     "output_type": "execute_result"
    }
   ],
   "source": [
    "movie_recent_clean_df.columns"
   ]
  },
  {
   "cell_type": "code",
   "execution_count": 32,
   "metadata": {},
   "outputs": [
    {
     "data": {
      "text/plain": [
       "[{'id': 18, 'name': 'Drama'}]                                       531\n",
       "[{'id': 35, 'name': 'Comedy'}]                                      321\n",
       "[{'id': 18, 'name': 'Drama'}, {'id': 10749, 'name': 'Romance'}]     191\n",
       "[{'id': 35, 'name': 'Comedy'}, {'id': 18, 'name': 'Drama'}]         159\n",
       "[{'id': 35, 'name': 'Comedy'}, {'id': 10749, 'name': 'Romance'}]    154\n",
       "Name: genres, dtype: int64"
      ]
     },
     "execution_count": 32,
     "metadata": {},
     "output_type": "execute_result"
    }
   ],
   "source": [
    "movie_recent_clean_df['genres'].value_counts().head()"
   ]
  },
  {
   "cell_type": "code",
   "execution_count": 205,
   "metadata": {},
   "outputs": [],
   "source": [
    "genre_movie_df = movie_recent_clean_df.loc[:,['id','imdb_id','budget','runtime','original_title','title','revenue','release_date','genres']]"
   ]
  },
  {
   "cell_type": "code",
   "execution_count": 177,
   "metadata": {},
   "outputs": [
    {
     "data": {
      "text/plain": [
       "5505"
      ]
     },
     "execution_count": 177,
     "metadata": {},
     "output_type": "execute_result"
    }
   ],
   "source": [
    "len(genre_movie_df)"
   ]
  },
  {
   "cell_type": "code",
   "execution_count": 212,
   "metadata": {},
   "outputs": [
    {
     "name": "stderr",
     "output_type": "stream",
     "text": [
      "/Users/kevinscheller/opt/anaconda3/lib/python3.7/site-packages/ipykernel_launcher.py:10: FutureWarning: set_value is deprecated and will be removed in a future release. Please use .at[] or .iat[] accessors instead\n",
      "  # Remove the CWD from sys.path while we load stuff.\n"
     ]
    }
   ],
   "source": [
    "for i, genre in genre_movie_df.iterrows():\n",
    "    cur_row = genre_movie_df.loc[i, \"genres\"]\n",
    "    row_json = ast.literal_eval(cur_row)\n",
    "    \n",
    "    try:\n",
    "        new_genre = row_json[0]['name']\n",
    "    except IndexError:\n",
    "        new_genre = 'NA'\n",
    "    \n",
    "    genre_movie_df.set_value(i, 'genre', new_genre)"
   ]
  },
  {
   "cell_type": "code",
   "execution_count": 242,
   "metadata": {},
   "outputs": [],
   "source": [
    "genre_movie_df.to_csv('Resources/GenreMovies.csv')"
   ]
  },
  {
   "cell_type": "code",
   "execution_count": null,
   "metadata": {},
   "outputs": [],
   "source": [
    "# --- START HERE BY USING GENREMOVIES FILE ---"
   ]
  },
  {
   "cell_type": "code",
   "execution_count": 243,
   "metadata": {},
   "outputs": [],
   "source": [
    "csv_file = 'Resources/GenreMovies.csv'\n",
    "genre_movie_df = pd.read_csv(csv_file)"
   ]
  },
  {
   "cell_type": "code",
   "execution_count": 244,
   "metadata": {},
   "outputs": [],
   "source": [
    "genre_movie_grouping_df = genre_movie_df.loc[:,['genre','budget','revenue']].groupby('genre').mean().astype(int)"
   ]
  },
  {
   "cell_type": "code",
   "execution_count": 245,
   "metadata": {},
   "outputs": [
    {
     "data": {
      "text/html": [
       "<div>\n",
       "<style scoped>\n",
       "    .dataframe tbody tr th:only-of-type {\n",
       "        vertical-align: middle;\n",
       "    }\n",
       "\n",
       "    .dataframe tbody tr th {\n",
       "        vertical-align: top;\n",
       "    }\n",
       "\n",
       "    .dataframe thead th {\n",
       "        text-align: right;\n",
       "    }\n",
       "</style>\n",
       "<table border=\"1\" class=\"dataframe\">\n",
       "  <thead>\n",
       "    <tr style=\"text-align: right;\">\n",
       "      <th></th>\n",
       "      <th>budget</th>\n",
       "      <th>revenue</th>\n",
       "    </tr>\n",
       "    <tr>\n",
       "      <th>genre</th>\n",
       "      <th></th>\n",
       "      <th></th>\n",
       "    </tr>\n",
       "  </thead>\n",
       "  <tbody>\n",
       "    <tr>\n",
       "      <td>Action</td>\n",
       "      <td>51798983</td>\n",
       "      <td>165433400</td>\n",
       "    </tr>\n",
       "    <tr>\n",
       "      <td>Adventure</td>\n",
       "      <td>84388243</td>\n",
       "      <td>269372290</td>\n",
       "    </tr>\n",
       "    <tr>\n",
       "      <td>Animation</td>\n",
       "      <td>48861692</td>\n",
       "      <td>203004753</td>\n",
       "    </tr>\n",
       "    <tr>\n",
       "      <td>Comedy</td>\n",
       "      <td>16270915</td>\n",
       "      <td>51570190</td>\n",
       "    </tr>\n",
       "    <tr>\n",
       "      <td>Crime</td>\n",
       "      <td>20422056</td>\n",
       "      <td>51184627</td>\n",
       "    </tr>\n",
       "    <tr>\n",
       "      <td>Documentary</td>\n",
       "      <td>1018284</td>\n",
       "      <td>3658850</td>\n",
       "    </tr>\n",
       "    <tr>\n",
       "      <td>Drama</td>\n",
       "      <td>12183681</td>\n",
       "      <td>38059328</td>\n",
       "    </tr>\n",
       "    <tr>\n",
       "      <td>Family</td>\n",
       "      <td>38927486</td>\n",
       "      <td>152352281</td>\n",
       "    </tr>\n",
       "    <tr>\n",
       "      <td>Fantasy</td>\n",
       "      <td>47625225</td>\n",
       "      <td>153805006</td>\n",
       "    </tr>\n",
       "    <tr>\n",
       "      <td>History</td>\n",
       "      <td>10833783</td>\n",
       "      <td>44450971</td>\n",
       "    </tr>\n",
       "    <tr>\n",
       "      <td>Horror</td>\n",
       "      <td>10520421</td>\n",
       "      <td>50104589</td>\n",
       "    </tr>\n",
       "    <tr>\n",
       "      <td>Music</td>\n",
       "      <td>10529832</td>\n",
       "      <td>26500973</td>\n",
       "    </tr>\n",
       "    <tr>\n",
       "      <td>Mystery</td>\n",
       "      <td>12723503</td>\n",
       "      <td>52873752</td>\n",
       "    </tr>\n",
       "    <tr>\n",
       "      <td>Romance</td>\n",
       "      <td>15690150</td>\n",
       "      <td>45387021</td>\n",
       "    </tr>\n",
       "    <tr>\n",
       "      <td>Science Fiction</td>\n",
       "      <td>55972446</td>\n",
       "      <td>200807823</td>\n",
       "    </tr>\n",
       "    <tr>\n",
       "      <td>TV Movie</td>\n",
       "      <td>100000</td>\n",
       "      <td>100000</td>\n",
       "    </tr>\n",
       "    <tr>\n",
       "      <td>Thriller</td>\n",
       "      <td>16937851</td>\n",
       "      <td>42025344</td>\n",
       "    </tr>\n",
       "    <tr>\n",
       "      <td>War</td>\n",
       "      <td>39160480</td>\n",
       "      <td>106677164</td>\n",
       "    </tr>\n",
       "    <tr>\n",
       "      <td>Western</td>\n",
       "      <td>35400000</td>\n",
       "      <td>108009487</td>\n",
       "    </tr>\n",
       "  </tbody>\n",
       "</table>\n",
       "</div>"
      ],
      "text/plain": [
       "                   budget    revenue\n",
       "genre                               \n",
       "Action           51798983  165433400\n",
       "Adventure        84388243  269372290\n",
       "Animation        48861692  203004753\n",
       "Comedy           16270915   51570190\n",
       "Crime            20422056   51184627\n",
       "Documentary       1018284    3658850\n",
       "Drama            12183681   38059328\n",
       "Family           38927486  152352281\n",
       "Fantasy          47625225  153805006\n",
       "History          10833783   44450971\n",
       "Horror           10520421   50104589\n",
       "Music            10529832   26500973\n",
       "Mystery          12723503   52873752\n",
       "Romance          15690150   45387021\n",
       "Science Fiction  55972446  200807823\n",
       "TV Movie           100000     100000\n",
       "Thriller         16937851   42025344\n",
       "War              39160480  106677164\n",
       "Western          35400000  108009487"
      ]
     },
     "execution_count": 245,
     "metadata": {},
     "output_type": "execute_result"
    }
   ],
   "source": [
    "genre_movie_grouping_df"
   ]
  },
  {
   "cell_type": "code",
   "execution_count": 241,
   "metadata": {},
   "outputs": [
    {
     "data": {
      "image/png": "[encoded data removed]",
      "text/plain": [
       "<Figure size 432x288 with 1 Axes>"
      ]
     },
     "metadata": {
      "needs_background": "light"
     },
     "output_type": "display_data"
    },
    {
     "data": {
      "image/png": "[encoded data removed]",
      "text/plain": [
       "<Figure size 432x288 with 1 Axes>"
      ]
     },
     "metadata": {
      "needs_background": "light"
     },
     "output_type": "display_data"
    }
   ],
   "source": [
    "p1 = genre_movie_grouping_df.reset_index().plot.bar(x='genre', y='revenue', rot=45)\n",
    "p2 = genre_movie_grouping_df.reset_index().plot.bar(x='genre', y='budget', rot=45)\n",
    "plt.show()"
   ]
  },
  {
   "cell_type": "code",
   "execution_count": null,
   "metadata": {},
   "outputs": [],
   "source": []
  }
 ],
 "metadata": {
  "kernelspec": {
   "display_name": "Python 3",
   "language": "python",
   "name": "python3"
  },
  "language_info": {
   "codemirror_mode": {
    "name": "ipython",
    "version": 3
   },
   "file_extension": ".py",
   "mimetype": "text/x-python",
   "name": "python",
   "nbconvert_exporter": "python",
   "pygments_lexer": "ipython3",
   "version": "3.7.4"
  }
 },
 "nbformat": 4,
 "nbformat_minor": 2
}
